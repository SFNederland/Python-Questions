{
 "cells": [
  {
   "cell_type": "markdown",
   "id": "9315857d",
   "metadata": {},
   "source": [
    "# Non-duplicated integer\n",
    "This problem was asked **by Google.**\n",
    "Given an array of integers where every integer occurs three times except for one integer, which only occurs once, find and return the non-duplicated integer.\n",
    "\n",
    "For example, \n",
    "- Given [6, 1, 3, 3, 3, 6, 6], return 1.\n",
    "\n",
    "- Given [13, 19, 13, 13], return 19."
   ]
  },
  {
   "cell_type": "code",
   "execution_count": 1,
   "id": "dbbc0fcc",
   "metadata": {},
   "outputs": [
    {
     "data": {
      "text/plain": [
       "2"
      ]
     },
     "execution_count": 1,
     "metadata": {},
     "output_type": "execute_result"
    }
   ],
   "source": [
    "def find_non_duplicated(numbers):\n",
    "  return [i for i in set(numbers) if numbers.count(i)==1][0]\n",
    "find_non_duplicated([6, 2, 3, 3, 3, 6, 6])"
   ]
  }
 ],
 "metadata": {
  "kernelspec": {
   "display_name": "Python 3",
   "language": "python",
   "name": "python3"
  },
  "language_info": {
   "codemirror_mode": {
    "name": "ipython",
    "version": 3
   },
   "file_extension": ".py",
   "mimetype": "text/x-python",
   "name": "python",
   "nbconvert_exporter": "python",
   "pygments_lexer": "ipython3",
   "version": "3.8.8"
  }
 },
 "nbformat": 4,
 "nbformat_minor": 5
}
