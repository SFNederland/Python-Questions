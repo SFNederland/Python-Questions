{
 "cells": [
  {
   "cell_type": "code",
   "execution_count": 2,
   "metadata": {},
   "outputs": [],
   "source": [
    "from bs4 import BeautifulSoup as bs\n",
    "from datetime import datetime\n",
    "from selenium import webdriver\n",
    "import pandas as pd\n",
    "import time"
   ]
  },
  {
   "cell_type": "code",
   "execution_count": 12,
   "metadata": {
    "tags": []
   },
   "outputs": [
    {
     "name": "stdout",
     "output_type": "stream",
     "text": [
      "Page 1 completed\n",
      "Page 2 completed\n",
      "Page 3 completed\n",
      "Page 4 completed\n",
      "Page 5 completed\n",
      "Page 6 completed\n",
      "Page 7 completed\n",
      "Page 8 completed\n",
      "Page 9 completed\n",
      "Page 10 completed\n",
      "Page 11 completed\n",
      "Page 12 completed\n",
      "Page 13 completed\n",
      "Page 14 completed\n",
      "Page 15 completed\n",
      "Page 16 completed\n",
      "Page 17 completed\n",
      "Page 18 completed\n",
      "Page 19 completed\n",
      "Page 20 completed\n",
      "Runtime of the program is: 0:02:01.559295\n"
     ]
    }
   ],
   "source": [
    "start = datetime.now()\n",
    "\n",
    "chrome_options = webdriver.ChromeOptions()\n",
    "chrome_options.add_argument(\"headless\")\n",
    "\n",
    "driver = webdriver.Chrome(executable_path=\"C://chromedriver.exe\", options=chrome_options)\n",
    "\n",
    "houses = pd.DataFrame(columns=[\"listing_date\", \"sale_or_rent\", \"re_type\", \"location\",  \"rooms\", \"area\", \"age\", \"floor\", \"price\"])\n",
    "\n",
    "for i in range(1, 21):\n",
    "\n",
    "    driver.get(\"https://www.sahibinden.com/satilik-arsa/mugla-milas?page=50\"+str(i))\n",
    "    driver.maximize_window()\n",
    "    time.sleep(5)\n",
    "\n",
    "    for house in driver.find_elements_by_class_name(\"list-view-content\"):\n",
    "\n",
    "        soup = bs(house.get_attribute(\"innerHTML\"), \"html.parser\")\n",
    "\n",
    "        \n",
    "        listing_date = soup.find(class_=\"list-view-date\").text.strip()\n",
    "        sale_or_rent = soup.find(class_=\"left\").text.split(\" \")[0]\n",
    "        re_type = \" \".join(soup.find(class_=\"left\").text.split(\" \")[3:]).strip()\n",
    "        location = soup.find(class_=\"list-view-location\").text.split(\",\")[0]\n",
    "\n",
    "        try:\n",
    "            rooms = soup.find(class_=\"celly houseRoomCount\").text\n",
    "        except:\n",
    "            try:\n",
    "                rooms = soup.find(class_=\"celly workRoomCount\").text.split(\"\\n\")\n",
    "                rooms = \" \".join([room.strip() for room in rooms])\n",
    "            except:\n",
    "                rooms = \"No room data\"\n",
    "        \n",
    "        try:\n",
    "            area = soup.find(class_=\"celly squareMeter list-view-size\").text.replace(\"m2\", \"\").replace(\".\", \",\").strip()\n",
    "        except:\n",
    "            area = \"No area data\"\n",
    "\n",
    "        try:\n",
    "            age = soup.find(class_=\"celly buildingAge\").text.replace(\"Yaşında\", \"\").strip()\n",
    "        except:\n",
    "            age = \"No age data\"\n",
    "      \n",
    "        try:\n",
    "            floor = soup.find(class_=\"celly floortype\").text\n",
    "        except:\n",
    "            floor = \"No floor data\"\n",
    "\n",
    "        price = soup.find(class_=\"list-view-price\").text.replace(\"TL\", \"\").replace(\".\", \",\").strip()\n",
    "\n",
    "        houses = houses.append({\"listing_date\": listing_date, \"sale_or_rent\": sale_or_rent,\n",
    "                                        \"re_type\": re_type, \"location\": location,\n",
    "                                        \"rooms\": rooms, \"area\": area, \"age\": age, \"floor\": floor,\n",
    "                                        \"price\": price}, ignore_index=True)\n",
    "\n",
    "    print(f\"Page {i} completed\")\n",
    "\n",
    "houses.to_csv('houses_Kira_Mersin.csv')\n",
    "\n",
    "driver.close()\n",
    "\n",
    "end = datetime.now()\n",
    "\n",
    "print(f\"Runtime of the program is: {end - start}\")"
   ]
  },
  {
   "cell_type": "code",
   "execution_count": null,
   "metadata": {},
   "outputs": [],
   "source": []
  }
 ],
 "metadata": {
  "interpreter": {
   "hash": "8138afe9f4c7415339365fad63a5f552ff43055100e9c51da19a3ab48156d255"
  },
  "kernelspec": {
   "display_name": "Python 3",
   "language": "python",
   "name": "python3"
  },
  "language_info": {
   "codemirror_mode": {
    "name": "ipython",
    "version": 3
   },
   "file_extension": ".py",
   "mimetype": "text/x-python",
   "name": "python",
   "nbconvert_exporter": "python",
   "pygments_lexer": "ipython3",
   "version": "3.8.8"
  }
 },
 "nbformat": 4,
 "nbformat_minor": 4
}
