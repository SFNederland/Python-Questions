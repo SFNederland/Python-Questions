{
 "cells": [
  {
   "cell_type": "markdown",
   "id": "651d31b8-48db-480d-8792-1014bdb5d661",
   "metadata": {},
   "source": [
    "This is an interview question asked **by Microsoft**.\n",
    "\n",
    "A number is considered perfect if its digits sum up to exactly 10.\n",
    "Given a positive integer n, return the n-th perfect number.\n",
    "For example, given 1, you should return 19. Given 2, you should return 28."
   ]
  },
  {
   "cell_type": "code",
   "execution_count": 1,
   "id": "9e751b61-a30d-4695-a37b-9afc472fdf9a",
   "metadata": {},
   "outputs": [
    {
     "data": {
      "text/plain": [
       "253"
      ]
     },
     "execution_count": 1,
     "metadata": {},
     "output_type": "execute_result"
    }
   ],
   "source": [
    "def perfect_number(num):\n",
    "    num2 =10-(sum([int(i) for i in str(num)]))\n",
    "    return int(str(num)+str((num2)))\n",
    "perfect_number(25)"
   ]
  }
 ],
 "metadata": {
  "kernelspec": {
   "display_name": "Python 3",
   "language": "python",
   "name": "python3"
  },
  "language_info": {
   "codemirror_mode": {
    "name": "ipython",
    "version": 3
   },
   "file_extension": ".py",
   "mimetype": "text/x-python",
   "name": "python",
   "nbconvert_exporter": "python",
   "pygments_lexer": "ipython3",
   "version": "3.8.8"
  }
 },
 "nbformat": 4,
 "nbformat_minor": 5
}
