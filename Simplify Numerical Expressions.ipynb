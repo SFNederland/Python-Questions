{
 "cells": [
  {
   "cell_type": "markdown",
   "id": "c6939af7",
   "metadata": {},
   "source": [
    "### Simplify Numerical Expressions\n",
    "\n",
    "Create a function that returns the simplified version of a fraction.\n",
    "Examples:\n",
    "\n",
    "simplify(\"4/6\") ➞ \"2/3\"\n",
    "\n",
    "simplify(\"10/11\") ➞ \"10/11\"\n",
    "\n",
    "simplify(\"100/400\") ➞ \"1/4\"\n",
    "\n",
    "simplify(\"8/4\") ➞ \"2\"\n",
    "\n",
    "#### Notes:\n",
    "- A fraction is simplified if there are no common factors between the numerator and the denominator. For example, 4/6 is not simplified, since 4 and 6 both share 2 as a factor. If improper fractions can be transformed into integers, do so in your code."
   ]
  },
  {
   "cell_type": "code",
   "execution_count": 7,
   "id": "9776e39c",
   "metadata": {},
   "outputs": [
    {
     "name": "stdout",
     "output_type": "stream",
     "text": [
      "kesirli sayı giriniz : 7/13\n"
     ]
    },
    {
     "data": {
      "text/plain": [
       "'7/13'"
      ]
     },
     "execution_count": 7,
     "metadata": {},
     "output_type": "execute_result"
    }
   ],
   "source": [
    "def simplify():\n",
    "  n,m= input(\"kesirli sayı giriniz : \").split(\"/\")\n",
    "  n=int(n)\n",
    "  m =int(m)\n",
    "  n_tam_bölen = set(i for i in range(1,n+1) if n%i == 0)\n",
    "  m_tam_bölen = set(i for i in range(1,m+1) if m%i == 0)\n",
    "  kesişim = list(n_tam_bölen.intersection(m_tam_bölen))\n",
    "  kesişim.sort()\n",
    "  if  kesişim != list():\n",
    "    return (str(n/kesişim[-1]).strip(\".0\") + \"/\" + str(m/kesişim[-1]).strip(\".0\"))\n",
    "  else:\n",
    "    return (str(n)+\"/\"+str(m))\n",
    "simplify()"
   ]
  }
 ],
 "metadata": {
  "kernelspec": {
   "display_name": "Python 3",
   "language": "python",
   "name": "python3"
  },
  "language_info": {
   "codemirror_mode": {
    "name": "ipython",
    "version": 3
   },
   "file_extension": ".py",
   "mimetype": "text/x-python",
   "name": "python",
   "nbconvert_exporter": "python",
   "pygments_lexer": "ipython3",
   "version": "3.8.8"
  }
 },
 "nbformat": 4,
 "nbformat_minor": 5
}
