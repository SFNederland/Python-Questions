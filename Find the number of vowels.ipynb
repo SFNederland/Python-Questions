{
 "cells": [
  {
   "cell_type": "markdown",
   "id": "efd166eb",
   "metadata": {},
   "source": [
    "### Find the number of vowels\n",
    "\n",
    "**Task:**\n",
    "A function that returns the total number of vowels in the given sentence.\n",
    "\n",
    "Input: Python is everything.\n",
    "\n",
    "Output: Your sentence has 5 vowels"
   ]
  },
  {
   "cell_type": "code",
   "execution_count": 1,
   "id": "8453762d",
   "metadata": {},
   "outputs": [
    {
     "name": "stdout",
     "output_type": "stream",
     "text": [
      "Enter a sentence: Python is everything.\n",
      "Your sentence has 5 vowels \n"
     ]
    }
   ],
   "source": [
    "vowels = \"a,e,ı,i,o,ö,u,ü\".split(\",\")\n",
    "empty_list = []\n",
    "sentence = input(\"Enter a sentence: \").lower().split()\n",
    "for i in sentence:\n",
    "    for j in i:\n",
    "        if j in vowels:\n",
    "            empty_list.append(j)\n",
    "print(f\"Your sentence has {len(empty_list)} vowels \")"
   ]
  }
 ],
 "metadata": {
  "kernelspec": {
   "display_name": "Python 3",
   "language": "python",
   "name": "python3"
  },
  "language_info": {
   "codemirror_mode": {
    "name": "ipython",
    "version": 3
   },
   "file_extension": ".py",
   "mimetype": "text/x-python",
   "name": "python",
   "nbconvert_exporter": "python",
   "pygments_lexer": "ipython3",
   "version": "3.8.8"
  }
 },
 "nbformat": 4,
 "nbformat_minor": 5
}
