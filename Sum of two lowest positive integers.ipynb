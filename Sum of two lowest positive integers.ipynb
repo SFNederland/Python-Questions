{
 "cells": [
  {
   "cell_type": "markdown",
   "id": "a9cac22c",
   "metadata": {},
   "source": [
    "# Sum of two lowest positive integers\n",
    "Create a function that returns the sum of the two lowest positive numbers given an array of minimum 4 positive integers. No floats or non-positive integers will be passed.\n",
    "\n",
    "For example,\n",
    "\n",
    "- when an array is passed like [19, 5, 42, 2, 77], the output should be 7.\n",
    "- [10, 343445353, 3453445, 3453545353453] should return 3453455."
   ]
  },
  {
   "cell_type": "code",
   "execution_count": 1,
   "id": "383e1534-eaea-489b-a6a9-32318f880a88",
   "metadata": {},
   "outputs": [
    {
     "data": {
      "text/plain": [
       "3"
      ]
     },
     "execution_count": 1,
     "metadata": {},
     "output_type": "execute_result"
    }
   ],
   "source": [
    "def sum_two_smallest_numbers(numbers):\n",
    "  return sum(sorted(numbers)[:2])\n",
    "sum_two_smallest_numbers([19, 1, 42, 2, 77])"
   ]
  }
 ],
 "metadata": {
  "kernelspec": {
   "display_name": "Python 3",
   "language": "python",
   "name": "python3"
  },
  "language_info": {
   "codemirror_mode": {
    "name": "ipython",
    "version": 3
   },
   "file_extension": ".py",
   "mimetype": "text/x-python",
   "name": "python",
   "nbconvert_exporter": "python",
   "pygments_lexer": "ipython3",
   "version": "3.8.8"
  }
 },
 "nbformat": 4,
 "nbformat_minor": 5
}
