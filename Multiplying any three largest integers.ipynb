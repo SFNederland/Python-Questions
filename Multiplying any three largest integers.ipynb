{
 "cells": [
  {
   "cell_type": "markdown",
   "id": "a9cac22c",
   "metadata": {},
   "source": [
    "## Multiplying any three largest integers\n",
    "- This is an interview question asked **by Facebook.** Given a list of integers, return the largest product that can be made by multiplying any three integers.\n",
    "- For example, if the list is [-10, -10, 5, 2], we should return 500, since that's -10 * -10 * 5. You can assume the list has at least three integers."
   ]
  },
  {
   "cell_type": "code",
   "execution_count": 1,
   "id": "3fecf9a6",
   "metadata": {},
   "outputs": [
    {
     "data": {
      "text/plain": [
       "960"
      ]
     },
     "execution_count": 1,
     "metadata": {},
     "output_type": "execute_result"
    }
   ],
   "source": [
    "def multiply(largest):\n",
    "    largest =sorted(largest)\n",
    "    minus_multiply_max = largest[0]*largest[1]*largest[-1]\n",
    "    max_three_num=largest[-1]*largest[-2]*largest[-3]\n",
    "    return max([max_three_num,minus_multiply_max])\n",
    "multiply([-3,5,8,12,2,-5,10])"
   ]
  }
 ],
 "metadata": {
  "kernelspec": {
   "display_name": "Python 3",
   "language": "python",
   "name": "python3"
  },
  "language_info": {
   "codemirror_mode": {
    "name": "ipython",
    "version": 3
   },
   "file_extension": ".py",
   "mimetype": "text/x-python",
   "name": "python",
   "nbconvert_exporter": "python",
   "pygments_lexer": "ipython3",
   "version": "3.8.8"
  }
 },
 "nbformat": 4,
 "nbformat_minor": 5
}
