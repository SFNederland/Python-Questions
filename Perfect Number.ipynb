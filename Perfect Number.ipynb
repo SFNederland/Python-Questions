{
 "cells": [
  {
   "cell_type": "markdown",
   "id": "651d31b8-48db-480d-8792-1014bdb5d661",
   "metadata": {},
   "source": [
    "# Perfect Number\n",
    "\n",
    "**Task:** Write a Python function to check whether a number is perfect or not. \n",
    "According to Wikipedia : In number theory, a perfect number is a positive integer that is equal to the sum of its proper positive divisors, that is, the sum of its positive divisors excluding the number itself (also known as its aliquot sum).\n",
    "Equivalently, a perfect number is a number that is half the sum of all of its positive divisors (including itself).\n",
    "\n",
    "**In Turkish :-)** : Eğer sayının kendisi hariç bölenlerinin toplamı kendisine eşitse  o  \"Perfect Number\"dır.\n",
    "\n",
    "Example : \n",
    "- The first perfect number is 6, because 1, 2, and 3 are its proper positive divisors, and 1 + 2 + 3 = 6.\n",
    "- The next perfect number is 28 = 1 + 2 + 4 + 7 + 14.\n",
    "This is followed by the perfect numbers 496 and 8128."
   ]
  },
  {
   "cell_type": "code",
   "execution_count": 1,
   "id": "9e751b61-a30d-4695-a37b-9afc472fdf9a",
   "metadata": {},
   "outputs": [
    {
     "name": "stdin",
     "output_type": "stream",
     "text": [
      "Enter a number:  8128\n"
     ]
    },
    {
     "name": "stdout",
     "output_type": "stream",
     "text": [
      "8128 is a perfect number\n"
     ]
    }
   ],
   "source": [
    "num = int(input(\"Enter a number: \"))\n",
    "result = sum([i for i in range(1,num) if num%i == 0])\n",
    "if result == num:\n",
    "    print(f\"{num} is a perfect number\")\n",
    "else:\n",
    "    print(f\"{num} is not a perfect number\")"
   ]
  }
 ],
 "metadata": {
  "kernelspec": {
   "display_name": "Python 3",
   "language": "python",
   "name": "python3"
  },
  "language_info": {
   "codemirror_mode": {
    "name": "ipython",
    "version": 3
   },
   "file_extension": ".py",
   "mimetype": "text/x-python",
   "name": "python",
   "nbconvert_exporter": "python",
   "pygments_lexer": "ipython3",
   "version": "3.8.8"
  }
 },
 "nbformat": 4,
 "nbformat_minor": 5
}
