{
 "cells": [
  {
   "cell_type": "markdown",
   "id": "20f5868e",
   "metadata": {},
   "source": [
    "This problem was asked **by Google.**\n",
    "Given a stack of N elements, interleave the first half of the stack with the\n",
    "second half reversed using only one other queue.\n",
    "Recall that you can only push or pop from a stack, and enqueue or dequeue from a\n",
    "queue.\n",
    "\n",
    "For example, if the stack is **[1, 2, 3, 4, 5],** it should become **[1, 5, 2, 4, 3].**\n",
    "\n",
    "If the stack is **[1, 2, 3, 4],** it should become **[1, 4, 2, 3]**"
   ]
  },
  {
   "cell_type": "code",
   "execution_count": 1,
   "id": "4f516d79",
   "metadata": {},
   "outputs": [
    {
     "data": {
      "text/plain": [
       "[1, 5, 2, 4, 3]"
      ]
     },
     "execution_count": 1,
     "metadata": {},
     "output_type": "execute_result"
    }
   ],
   "source": [
    "def replace_num(arr):\n",
    "    zip_arr=[*zip(arr,arr[::-1])]\n",
    "    new_list =[]\n",
    "    for i in zip_arr:\n",
    "        new_list.extend(i)\n",
    "    return new_list[:len(arr)]\n",
    "replace_num([1, 2, 3, 4,5])"
   ]
  }
 ],
 "metadata": {
  "kernelspec": {
   "display_name": "Python 3",
   "language": "python",
   "name": "python3"
  },
  "language_info": {
   "codemirror_mode": {
    "name": "ipython",
    "version": 3
   },
   "file_extension": ".py",
   "mimetype": "text/x-python",
   "name": "python",
   "nbconvert_exporter": "python",
   "pygments_lexer": "ipython3",
   "version": "3.8.8"
  }
 },
 "nbformat": 4,
 "nbformat_minor": 5
}
