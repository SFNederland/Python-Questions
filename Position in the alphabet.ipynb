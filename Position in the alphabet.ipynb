{
 "cells": [
  {
   "cell_type": "markdown",
   "id": "289562d0",
   "metadata": {},
   "source": [
    "# Position in the alphabet.\n",
    "You are required to, given a string, replace every letter with its position in the alphabet.\n",
    "\n",
    "If anything in the text isn't a letter, ignore it and don't return it.\n",
    "\n",
    "\"a\" = 1, \"b\" = 2, etc.\n",
    "\n",
    "Example :\n",
    "\n",
    "alphabet_position(\"The sunset sets at twelve o' clock.\")\n",
    "\n",
    "Should return \"20 8 5 19 21 14 19 5 20 19 5 20 19 1 20 20 23 5 12 22 5 15 3 12 15 3 11\" (as a string)"
   ]
  },
  {
   "cell_type": "code",
   "execution_count": 1,
   "id": "e06696e7-8178-43a4-99c6-491986f7f57e",
   "metadata": {},
   "outputs": [
    {
     "data": {
      "text/plain": [
       "'20 8 5 19 21 14 19 5 20 19 5 20 19 1 20 20 23 5 12 22 5 15 3 12 15 3 11'"
      ]
     },
     "execution_count": 1,
     "metadata": {},
     "output_type": "execute_result"
    }
   ],
   "source": [
    "def position_in_alphabet(sentence):\n",
    "    sentence=sentence.replace(\"I\",\"i\").lower()\n",
    "    alphabet = \"abcdefghijklmnopqrstuvwxyz\"\n",
    "    numbers = [*range(1,27)]\n",
    "    list1= [dict(zip(alphabet,numbers))[i] for i in sentence if i in alphabet ]\n",
    "    return str(list1).strip(\"[]\").replace(\",\",\"\")\n",
    "position_in_alphabet(\"The sunset sets at twelve o' clock.\")"
   ]
  }
 ],
 "metadata": {
  "kernelspec": {
   "display_name": "Python 3",
   "language": "python",
   "name": "python3"
  },
  "language_info": {
   "codemirror_mode": {
    "name": "ipython",
    "version": 3
   },
   "file_extension": ".py",
   "mimetype": "text/x-python",
   "name": "python",
   "nbconvert_exporter": "python",
   "pygments_lexer": "ipython3",
   "version": "3.8.8"
  }
 },
 "nbformat": 4,
 "nbformat_minor": 5
}
