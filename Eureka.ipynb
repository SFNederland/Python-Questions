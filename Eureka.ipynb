{
 "cells": [
  {
   "cell_type": "markdown",
   "id": "debedb63",
   "metadata": {},
   "source": [
    "#### EUREKA\n",
    " The number 89 is the first integer with more than one digit that fulfills the property partially introduced in the title of this kata. What's the use of saying \"Eureka\"? Because this sum gives the same number.\n",
    "\n",
    "In effect: 89 = 8^1 + 9^2\n",
    "\n",
    "The next number in having this property is 135.\n",
    "\n",
    "See this property again: 135 = 1^1 + 3^2 + 5^3\n",
    "\n",
    "We need a function to collect these numbers, that may receive two integers a, b that defines the range [a, b] (inclusive) and outputs a list of the sorted numbers in the range that fulfills the property described above."
   ]
  },
  {
   "cell_type": "code",
   "execution_count": 5,
   "id": "df178864",
   "metadata": {},
   "outputs": [
    {
     "data": {
      "text/plain": [
       "[1, 2, 3, 4, 5, 6, 7, 8, 9, 89]"
      ]
     },
     "execution_count": 5,
     "metadata": {},
     "output_type": "execute_result"
    }
   ],
   "source": [
    "def sum_dig_pow(a, b):\n",
    "    def eureka(s):\n",
    "        count=1\n",
    "        emply_list=[]\n",
    "        for i in str(s):\n",
    "            i=int(i)**count\n",
    "            emply_list.append(i)\n",
    "            count+=1\n",
    "        if sum(emply_list)==s:\n",
    "          return True\n",
    "    new_list=[]\n",
    "    x = list(range(a,b+1))\n",
    "    filter_x=list(filter(eureka,x))\n",
    "    new_list.append(filter_x)\n",
    "    return new_list[0]\n",
    "sum_dig_pow(1,100)"
   ]
  },
  {
   "cell_type": "code",
   "execution_count": 11,
   "id": "a3f376f1-1cbe-4cbd-9d30-e3e84c1a7414",
   "metadata": {},
   "outputs": [
    {
     "data": {
      "text/plain": [
       "[1, 2, 3, 4, 5, 6, 7, 8, 9, 89]"
      ]
     },
     "execution_count": 11,
     "metadata": {},
     "output_type": "execute_result"
    }
   ],
   "source": [
    "def sum_dig_pow(a, b):\n",
    "    def eureka(s):\n",
    "        count=1\n",
    "        emply_list=[]\n",
    "        for i in str(s):\n",
    "            i=int(i)**count\n",
    "            emply_list.append(i)\n",
    "            count+=1\n",
    "        if sum(emply_list)==s:\n",
    "          return True\n",
    "    x = list(range(a,b+1))\n",
    "    return [i for i in list(filter(eureka,x))]\n",
    "sum_dig_pow(1,89)"
   ]
  },
  {
   "cell_type": "code",
   "execution_count": null,
   "id": "e3617b2e-c475-4fdf-975a-c03d3a47d6b5",
   "metadata": {},
   "outputs": [],
   "source": []
  }
 ],
 "metadata": {
  "kernelspec": {
   "display_name": "Python 3",
   "language": "python",
   "name": "python3"
  },
  "language_info": {
   "codemirror_mode": {
    "name": "ipython",
    "version": 3
   },
   "file_extension": ".py",
   "mimetype": "text/x-python",
   "name": "python",
   "nbconvert_exporter": "python",
   "pygments_lexer": "ipython3",
   "version": "3.8.8"
  }
 },
 "nbformat": 4,
 "nbformat_minor": 5
}
