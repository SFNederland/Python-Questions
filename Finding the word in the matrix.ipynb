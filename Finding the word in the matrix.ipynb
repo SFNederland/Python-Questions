{
 "cells": [
  {
   "cell_type": "markdown",
   "id": "9315857d",
   "metadata": {},
   "source": [
    "### Finding the word in the matrix\n",
    "This is an interview question asked **by Microsoft**. Given a 2D matrix of characters and a target word, write a function that returns whether the word can be found in the matrix by going left-to-right, or up-to-down. For example, given the following matrix:\n",
    "\n",
    "[['F', 'A', 'C', 'I'],\n",
    "\n",
    "['O', 'B', 'Q', 'P'],\n",
    "\n",
    "['A', 'N', 'O', 'B'],\n",
    "\n",
    "['M', 'A', 'S', 'S']]\n",
    "\n",
    "and the target word 'FOAM', you should return true, since it's the leftmost column. Similarly, given the target word 'MASS', you should return true, since it's the last row."
   ]
  },
  {
   "cell_type": "code",
   "execution_count": 1,
   "id": "7a9c8ed8-4170-416d-aacf-4a603baf372d",
   "metadata": {},
   "outputs": [
    {
     "data": {
      "text/plain": [
       "True"
      ]
     },
     "execution_count": 1,
     "metadata": {},
     "output_type": "execute_result"
    }
   ],
   "source": [
    "def find_word_matrix(x,y):\n",
    "    a=[\"\".join(i) for i in x]\n",
    "    b=[[x[j][i] for j in range(len(a))] for i in range(len(a))]\n",
    "    return True if y in a or b else False\n",
    "find_word_matrix([['F', 'A', 'C', 'I'],['O', 'B', 'Q', 'P'],['A', 'N', 'O', 'B'],['M', 'A', 'S', 'S']],\"FOAM\")"
   ]
  }
 ],
 "metadata": {
  "kernelspec": {
   "display_name": "Python 3",
   "language": "python",
   "name": "python3"
  },
  "language_info": {
   "codemirror_mode": {
    "name": "ipython",
    "version": 3
   },
   "file_extension": ".py",
   "mimetype": "text/x-python",
   "name": "python",
   "nbconvert_exporter": "python",
   "pygments_lexer": "ipython3",
   "version": "3.8.8"
  }
 },
 "nbformat": 4,
 "nbformat_minor": 5
}
