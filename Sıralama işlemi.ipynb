{
 "cells": [
  {
   "cell_type": "markdown",
   "id": "5ccd013c-7fa2-4cc7-9a2d-05ab46aac090",
   "metadata": {},
   "source": [
    "### Sıralama işlemi\n",
    "\n",
    "**Görev:**\n",
    "- Verilen cümledeki kelimelerde yer alan rakamlara göre cümleyi tekrar oluşturan bir fonksiyon yazınız. Cümlenin ilk harfinin büyük olduğuna dikkat edelim.\n",
    "- Cümlede noktalama işaretleri bulunmamaktadır.\n",
    "\n",
    "**Cümle** : \"kolay2 Bu1 test4 bir3\"  \n",
    "**Sonuç** : \"Bu bir kolay test\""
   ]
  },
  {
   "cell_type": "code",
   "execution_count": 9,
   "id": "6bb353d5-80be-4b82-8910-5f1ac49e1189",
   "metadata": {},
   "outputs": [
    {
     "data": {
      "text/plain": [
       "'Bu kolay bir test'"
      ]
     },
     "execution_count": 9,
     "metadata": {},
     "output_type": "execute_result"
    }
   ],
   "source": [
    "def sırala(cümle):\n",
    "    liste=[i[::-1] for i in cümle.split()]\n",
    "    liste2 = []\n",
    "    sentence = \"\"\n",
    "    for j in sorted(liste):\n",
    "        liste2.append(j[::-1])\n",
    "        sentence += \" \"+ j[::-1]\n",
    "    sonuc = ''.join( filter(lambda x:  not x.isnumeric(), sentence))\n",
    "    return(sonuc.strip().capitalize())\n",
    "sırala(\"kolay2 Bu1 test4 bir3\")"
   ]
  },
  {
   "cell_type": "code",
   "execution_count": null,
   "id": "bbf6fc53-0d37-4000-a091-3cb3566c7472",
   "metadata": {},
   "outputs": [],
   "source": []
  }
 ],
 "metadata": {
  "kernelspec": {
   "display_name": "Python 3",
   "language": "python",
   "name": "python3"
  },
  "language_info": {
   "codemirror_mode": {
    "name": "ipython",
    "version": 3
   },
   "file_extension": ".py",
   "mimetype": "text/x-python",
   "name": "python",
   "nbconvert_exporter": "python",
   "pygments_lexer": "ipython3",
   "version": "3.8.8"
  }
 },
 "nbformat": 4,
 "nbformat_minor": 5
}
