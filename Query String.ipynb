{
 "cells": [
  {
   "cell_type": "markdown",
   "id": "9398ba91-b5ca-441f-b066-725339206132",
   "metadata": {},
   "source": [
    "# Query String\n",
    "This is an interview question asked **by Twitter.**\n",
    "Implement an autocomplete system. That is, given a query string s and a set of all possible query strings, return all strings in the set that have s as a prefix.\n",
    "\n",
    "For example, given the query string \"de\" and the set of strings [\"dog\", \"deer\", \"deal\"], return [\"deer\", \"deal\"]. "
   ]
  },
  {
   "cell_type": "code",
   "execution_count": 1,
   "id": "a9f6d1e0-e482-4e7e-8798-90357f05f4d8",
   "metadata": {},
   "outputs": [
    {
     "data": {
      "text/plain": [
       "['deer', 'deal']"
      ]
     },
     "execution_count": 1,
     "metadata": {},
     "output_type": "execute_result"
    }
   ],
   "source": [
    "def find_write(query,strings):\n",
    "    return [i for i in strings if query in i[:len(query)]]\n",
    "find_write(\"de\",[\"dog\", \"deer\", \"deal\"])"
   ]
  }
 ],
 "metadata": {
  "kernelspec": {
   "display_name": "Python 3",
   "language": "python",
   "name": "python3"
  },
  "language_info": {
   "codemirror_mode": {
    "name": "ipython",
    "version": 3
   },
   "file_extension": ".py",
   "mimetype": "text/x-python",
   "name": "python",
   "nbconvert_exporter": "python",
   "pygments_lexer": "ipython3",
   "version": "3.8.8"
  }
 },
 "nbformat": 4,
 "nbformat_minor": 5
}
