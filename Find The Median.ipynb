{
 "cells": [
  {
   "cell_type": "markdown",
   "id": "debedb63",
   "metadata": {
    "scrolled": true
   },
   "source": [
    "### Find The Median Of Values\n",
    "\n",
    "Write a Python program to find the median of three values.\n",
    "\n",
    "Expected Output:\n",
    "\n",
    "Input first number: 15                                                  \n",
    "Input second number: 26                                                 \n",
    "Input third number: 29\n",
    "\n",
    "The median is **26.0**   "
   ]
  },
  {
   "cell_type": "code",
   "execution_count": 1,
   "id": "df178864",
   "metadata": {},
   "outputs": [
    {
     "name": "stdout",
     "output_type": "stream",
     "text": [
      "How many numbers will you enter? 3\n",
      " Please Enter The Number: 26\n",
      " Please Enter The Number: 35\n",
      " Please Enter The Number: 9\n",
      "The median of values is : 26\n"
     ]
    }
   ],
   "source": [
    "again = int(input(\"How many numbers will you enter? \"))\n",
    "counter=0\n",
    "emply_list = []\n",
    "while counter<again:\n",
    "    number= int(input(\" Please Enter The Number: \"))\n",
    "    emply_list.append(number)\n",
    "    counter+=1\n",
    "if len(emply_list)%2:\n",
    "    emply_list.sort()\n",
    "    print(\"The median of values is :\",emply_list[again//2])\n",
    "else:\n",
    "    emply_list.sort()\n",
    "    print(\"The median of three values are:\",emply_list[(again//2)-1],\" ,\",emply_list[again//2])"
   ]
  }
 ],
 "metadata": {
  "kernelspec": {
   "display_name": "Python 3",
   "language": "python",
   "name": "python3"
  },
  "language_info": {
   "codemirror_mode": {
    "name": "ipython",
    "version": 3
   },
   "file_extension": ".py",
   "mimetype": "text/x-python",
   "name": "python",
   "nbconvert_exporter": "python",
   "pygments_lexer": "ipython3",
   "version": "3.8.8"
  }
 },
 "nbformat": 4,
 "nbformat_minor": 5
}
