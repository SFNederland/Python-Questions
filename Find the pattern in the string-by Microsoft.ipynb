{
 "cells": [
  {
   "cell_type": "markdown",
   "id": "efd166eb",
   "metadata": {},
   "source": [
    "## Find the pattern in the string\n",
    "This problem was asked **by Microsoft**. Given a string and a pattern, find the starting indices of all occurrences of the pattern in the string.\n",
    "\n",
    "For example, given the string \"abracadabra\" and the pattern \"abr\", you should return [0, 7]"
   ]
  },
  {
   "cell_type": "code",
   "execution_count": 1,
   "id": "8453762d",
   "metadata": {},
   "outputs": [
    {
     "data": {
      "text/plain": [
       "[0, 7]"
      ]
     },
     "execution_count": 1,
     "metadata": {},
     "output_type": "execute_result"
    }
   ],
   "source": [
    "def find_index(x,y):\n",
    "    empty_list=[]\n",
    "    count=0\n",
    "    while y in x:\n",
    "        empty_list.append(x.index(y)+count)\n",
    "        x = x.replace(y,\"\",1)\n",
    "        count+=len(y)\n",
    "    return empty_list\n",
    "find_index(\"abracadabra\",\"abr\")"
   ]
  }
 ],
 "metadata": {
  "kernelspec": {
   "display_name": "Python 3",
   "language": "python",
   "name": "python3"
  },
  "language_info": {
   "codemirror_mode": {
    "name": "ipython",
    "version": 3
   },
   "file_extension": ".py",
   "mimetype": "text/x-python",
   "name": "python",
   "nbconvert_exporter": "python",
   "pygments_lexer": "ipython3",
   "version": "3.8.8"
  }
 },
 "nbformat": 4,
 "nbformat_minor": 5
}
