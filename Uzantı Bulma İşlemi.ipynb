{
 "cells": [
  {
   "cell_type": "markdown",
   "id": "d7ab3028",
   "metadata": {},
   "source": [
    "# Uzantı Bulma İşlemi\n",
    "\n",
    "Kullanıcıdan gelen bir dosya adının uzantısını yazdırın. Eğer kullanıcı \".uzantı\" şeklinde girmezse, dosya adını doğru formatta girene kadar sormaya devam etmelidir.\n",
    "\n",
    "Örnek dosya adı :  abc.java\n",
    "\n",
    "Çıktı : java"
   ]
  },
  {
   "cell_type": "code",
   "execution_count": 1,
   "id": "d3079832",
   "metadata": {},
   "outputs": [
    {
     "name": "stdout",
     "output_type": "stream",
     "text": [
      "program adını giriniz : python java\n",
      "Noktalı ve boşluksuz şekilde giriniz!\n",
      "program adını giriniz : python.py\n",
      "py\n"
     ]
    }
   ],
   "source": [
    "# 1.çözüm :\n",
    "while True:\n",
    "    program_name=input(\"program adını giriniz : \")\n",
    "    if not \".\" in program_name:\n",
    "        print(\"Noktalı ve boşluksuz şekilde giriniz!\")\n",
    "    else:\n",
    "        break\n",
    "list_name= program_name.split(\".\")\n",
    "print(list_name[-1])"
   ]
  },
  {
   "cell_type": "code",
   "execution_count": 2,
   "id": "fe2359f2",
   "metadata": {},
   "outputs": [
    {
     "name": "stdout",
     "output_type": "stream",
     "text": [
      "uzantı ile beraber program adını giriniz: software.java\n",
      "java"
     ]
    }
   ],
   "source": [
    "#2.çözüm  --for döngüde yapıldı\n",
    "while True:\n",
    "    program_name= list(input(\"uzantı ile beraber program adını giriniz: \"))\n",
    "    if \".\" in program_name:\n",
    "        for i in program_name[program_name.index(\".\") + 1 :]:\n",
    "            print(i, end = \"\")\n",
    "        break\n",
    "    else:\n",
    "        print(\"Lütfen \\'.uzantı' seklinde yazınız !! \")"
   ]
  },
  {
   "cell_type": "code",
   "execution_count": 3,
   "id": "f856af98",
   "metadata": {},
   "outputs": [
    {
     "name": "stdout",
     "output_type": "stream",
     "text": [
      "uzantı ile beraber program adını giriniz: hello\n",
      "'.uzantı' seklinde yazınız !! \n",
      "uzantı ile beraber program adını giriniz: hello.py\n",
      "uzantınız: py\n"
     ]
    }
   ],
   "source": [
    "#3.çözüm --while ve rsplit () ile döngüde yapıldı\n",
    "while True:\n",
    "    program_name = input(\"uzantı ile beraber program adını giriniz: \")\n",
    "    list_program_name =program_name.rsplit('.', 1)\n",
    "    if \".\" in program_name :\n",
    "        print(\"uzantınız:\",list_program_name[-1])\n",
    "        break\n",
    "    else:\n",
    "        print(\"\\'.uzantı' seklinde yazınız !! \")"
   ]
  }
 ],
 "metadata": {
  "kernelspec": {
   "display_name": "Python 3",
   "language": "python",
   "name": "python3"
  },
  "language_info": {
   "codemirror_mode": {
    "name": "ipython",
    "version": 3
   },
   "file_extension": ".py",
   "mimetype": "text/x-python",
   "name": "python",
   "nbconvert_exporter": "python",
   "pygments_lexer": "ipython3",
   "version": "3.8.8"
  }
 },
 "nbformat": 4,
 "nbformat_minor": 5
}
