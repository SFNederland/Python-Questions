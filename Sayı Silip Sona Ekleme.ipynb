{
 "cells": [
  {
   "cell_type": "markdown",
   "id": "b3e3e374",
   "metadata": {},
   "source": [
    "### SAYI SİLİP SONA EKLEME\n",
    "array1 = [0,1,0,3,12]\n",
    "\n",
    "  array2 = [1,7,0,0,8,0,10,12,0,4]\n",
    "\n",
    "**Görev**: Elimizde bu şekilde herhangi bir sırada 0 içeren diziler var. Bu sıfırları listenin sonuna atmamız ve yeni listeyi yazdırmamız gerekiyor."
   ]
  },
  {
   "cell_type": "code",
   "execution_count": 3,
   "id": "36aec3f3",
   "metadata": {},
   "outputs": [
    {
     "name": "stdout",
     "output_type": "stream",
     "text": [
      "[1, 3, 12, 0, 0]\n",
      "[1, 7, 8, 10, 12, 4, 0, 0, 0, 0]\n"
     ]
    }
   ],
   "source": [
    "array1 = [0,1,0,3,12]\n",
    "array2 = [1,7,0,0,8,0,10,12,0,4]\n",
    "for i in array1:\n",
    "  if i == 0:\n",
    "    array1.remove(i)\n",
    "    array1.append(i)\n",
    "for i in array2:\n",
    "  if i == 0:\n",
    "    array2.remove(i)\n",
    "    array2.append(i)\n",
    "print(array1)\n",
    "print(array2)"
   ]
  }
 ],
 "metadata": {
  "kernelspec": {
   "display_name": "Python 3",
   "language": "python",
   "name": "python3"
  },
  "language_info": {
   "codemirror_mode": {
    "name": "ipython",
    "version": 3
   },
   "file_extension": ".py",
   "mimetype": "text/x-python",
   "name": "python",
   "nbconvert_exporter": "python",
   "pygments_lexer": "ipython3",
   "version": "3.8.8"
  }
 },
 "nbformat": 4,
 "nbformat_minor": 5
}
