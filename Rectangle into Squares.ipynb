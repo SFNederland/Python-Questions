{
 "cells": [
  {
   "cell_type": "markdown",
   "id": "daec9864",
   "metadata": {},
   "source": [
    "# Rectangle Into Squares\n",
    "\n",
    "The drawing below gives an idea of how to cut a given \"true\" rectangle into squares (\"true\" rectangle meaning that the two dimensions are different).\n",
    "\n",
    "![lk5vJ7sm.jpg](data:image/jpeg;base64,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)\n",
    "\n",
    "Can you translate this drawing into an algorithm?\n",
    "\n",
    "You will be given two dimensions\n",
    "\n",
    "1. a positive integer length\n",
    "\n",
    "2. a positive integer width\n",
    "\n",
    "You will return a collection or a string (depending on the language; Shell bash, PowerShell, Pascal and Fortran return a string) with the size of each of the squares.\n",
    "\n",
    "Examples in general form:\n",
    "(depending on the language)\n",
    "\n",
    "\n",
    "#### sqInRect(5, 3) should return [3, 2, 1, 1]\n",
    "#### sqInRect(3, 5) should return [3, 2, 1, 1]\n",
    "  \n",
    "You can see examples for your language in **\"SAMPLE TESTS\".**\n",
    "\n",
    "\n",
    "**Notes:**\n",
    "- **lng == wdth** as a starting case would be an entirely different problem and the drawing is planned to be interpreted with **lng != wdth.** (See kata, Square into Squares. Protect trees! http://www.codewars.com/kata/54eb33e5bc1a25440d000891 for this problem).\n",
    "- When the initial parameters are so that **lng == wdth**, the solution **[lng]** would be the most obvious but not in the spirit of  this kata so, in that case, return **None/nil/null/Nothing** or return **{}** with C++, **Array()** with Scala, **[]** with Perl, Raku.\n",
    "\n",
    "- In that case the returned structure of **C** will have its **sz** component equal to **0**.\n",
    "\n",
    "- Return the string **\"nil\"** with Bash, PowerShell, Pascal and Fortran."
   ]
  },
  {
   "cell_type": "code",
   "execution_count": 1,
   "id": "7a9c8ed8-4170-416d-aacf-4a603baf372d",
   "metadata": {},
   "outputs": [
    {
     "data": {
      "text/plain": [
       "[14, 14, 9, 5, 4, 1, 1, 1, 1]"
      ]
     },
     "execution_count": 1,
     "metadata": {},
     "output_type": "execute_result"
    }
   ],
   "source": [
    "def sqInRect(x,y):\n",
    "    list_1=[min(x,y)]\n",
    "    result_list = [min(x,y)]\n",
    "    if x==y:\n",
    "        return None\n",
    "    while True:\n",
    "        absolute_diff = abs(x-y)\n",
    "        list_1.append(absolute_diff)\n",
    "        result_list.append(min(list_1))\n",
    "        if x>y:\n",
    "            x=absolute_diff\n",
    "        else:\n",
    "            y=absolute_diff\n",
    "        if x==y:\n",
    "            break\n",
    "    return result_list\n",
    "sqInRect(37,14)"
   ]
  }
 ],
 "metadata": {
  "kernelspec": {
   "display_name": "Python 3",
   "language": "python",
   "name": "python3"
  },
  "language_info": {
   "codemirror_mode": {
    "name": "ipython",
    "version": 3
   },
   "file_extension": ".py",
   "mimetype": "text/x-python",
   "name": "python",
   "nbconvert_exporter": "python",
   "pygments_lexer": "ipython3",
   "version": "3.8.8"
  }
 },
 "nbformat": 4,
 "nbformat_minor": 5
}
