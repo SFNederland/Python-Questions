{
 "cells": [
  {
   "cell_type": "markdown",
   "id": "9315857d",
   "metadata": {},
   "source": [
    "##  Possible itineraries\n",
    "This problem was asked by **Facebook.**\n",
    "Given an unordered list of flights taken by someone, each represented as (origin, destination) pairs, and a starting airport, compute the person's itinerary. If no such itinerary exists, return null. If there are multiple possible itineraries, return the lexicographically smallest one. All flights must be used in the itinerary. For example,\n",
    "\n",
    "Given the list of flights [('SFO', 'HKO'), ('YYZ', 'SFO'), ('YUL', 'YYZ'), ('HKO', 'ORD')] and starting airport 'YUL',\n",
    "\n",
    "you should return the list ['YUL', 'YYZ', 'SFO', 'HKO', 'ORD'].\n",
    "\n",
    "Given the list of flights [('SFO', 'COM'), ('COM', 'YYZ')] and starting airport 'COM',\n",
    "\n",
    "you should return None.\n",
    "\n",
    "Given the list of flights [('A', 'B'), ('A', 'C'), ('B', 'C'), ('C', 'A')] and starting airport 'A',\n",
    "\n",
    "you should return the list ['A', 'B', 'C', 'A', 'C'] even though ['A', 'C', 'A', 'B', 'C'] is also a valid itinerary. However, the first one is lexicographically smaller."
   ]
  },
  {
   "cell_type": "code",
   "execution_count": 1,
   "id": "7a9c8ed8-4170-416d-aacf-4a603baf372d",
   "metadata": {},
   "outputs": [
    {
     "data": {
      "text/plain": [
       "['bm', 'cf', 'an', 'bm', 'fg']"
      ]
     },
     "execution_count": 1,
     "metadata": {},
     "output_type": "execute_result"
    }
   ],
   "source": [
    "def possible_itineraries(x,y):\n",
    "    dict_x =[{i[0]:i[1]} for i in x]\n",
    "    result=[]\n",
    "    for a in range(len(x)):\n",
    "        for i in dict_x:\n",
    "            if y in i:\n",
    "                result.append(y)\n",
    "                dict_x.remove(i)\n",
    "                y=i[y]\n",
    "    return None if len(result)==1 else result + [y]\n",
    "possible_itineraries([('an', 'bm'), ('bm', 'cf'), ('bm', 'fg'), ('cf', 'an')],'bm')"
   ]
  }
 ],
 "metadata": {
  "kernelspec": {
   "display_name": "Python 3",
   "language": "python",
   "name": "python3"
  },
  "language_info": {
   "codemirror_mode": {
    "name": "ipython",
    "version": 3
   },
   "file_extension": ".py",
   "mimetype": "text/x-python",
   "name": "python",
   "nbconvert_exporter": "python",
   "pygments_lexer": "ipython3",
   "version": "3.8.8"
  }
 },
 "nbformat": 4,
 "nbformat_minor": 5
}
