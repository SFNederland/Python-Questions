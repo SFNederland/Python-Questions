{
 "cells": [
  {
   "cell_type": "markdown",
   "id": "86358a0c",
   "metadata": {},
   "source": [
    "###  Asal Sayı Olanları Bulma\n",
    "\n",
    "**Task:** 1 ile girilen limit sayı (n) arasındaki asal sayıları yazdırın.\n",
    "\n",
    "**Example:** n = 100\n",
    "\n",
    "**Out =** [2, 3, 5, 7, 11, 13, 17, 19, 23, 29, 31, 37, 41, 43, 47, 53, 59,\n",
    "61, 67, 71, 73, 79, 83, 89, 97]\n"
   ]
  },
  {
   "cell_type": "code",
   "execution_count": 1,
   "id": "d15eb4c8",
   "metadata": {
    "scrolled": false
   },
   "outputs": [
    {
     "name": "stdout",
     "output_type": "stream",
     "text": [
      "sayı giriniz :100\n",
      "[2, 3, 5, 7, 11, 13, 17, 19, 23, 29, 31, 37, 41, 43, 47, 53, 59, 61, 67, 71, 73, 79, 83, 89, 97]\n"
     ]
    }
   ],
   "source": [
    "def asal(x):\n",
    "    sayac = 0\n",
    "    for i in range(1,x+1):\n",
    "        if x%i == 0:\n",
    "            sayac+=1\n",
    "    if sayac<3 and x != 1:\n",
    "        return True\n",
    "n = list(range(1,(int(input(\"sayı giriniz :\"))+1)))\n",
    "asal_sayı = list(filter(asal,n))\n",
    "print(asal_sayı)"
   ]
  }
 ],
 "metadata": {
  "kernelspec": {
   "display_name": "Python 3",
   "language": "python",
   "name": "python3"
  },
  "language_info": {
   "codemirror_mode": {
    "name": "ipython",
    "version": 3
   },
   "file_extension": ".py",
   "mimetype": "text/x-python",
   "name": "python",
   "nbconvert_exporter": "python",
   "pygments_lexer": "ipython3",
   "version": "3.8.8"
  }
 },
 "nbformat": 4,
 "nbformat_minor": 5
}
