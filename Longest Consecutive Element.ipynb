{
 "cells": [
  {
   "cell_type": "markdown",
   "id": "289562d0",
   "metadata": {},
   "source": [
    "# Longest Consecutive Element\n",
    "\n",
    "This problem was asked **by Microsoft.**\n",
    "Given an unsorted array of integers, find the length of the longest consecutive elements sequence.\n",
    "\n",
    "For example, given [100, 4, 200, 1, 3, 2], the longest consecutive element sequence is [1, 2, 3, 4]. Return its length: 4."
   ]
  },
  {
   "cell_type": "code",
   "execution_count": 1,
   "id": "e06696e7-8178-43a4-99c6-491986f7f57e",
   "metadata": {},
   "outputs": [
    {
     "data": {
      "text/plain": [
       "8"
      ]
     },
     "execution_count": 1,
     "metadata": {},
     "output_type": "execute_result"
    }
   ],
   "source": [
    "def longest_consecutive_element(veriable):\n",
    "    count = 0\n",
    "    veriable.sort()\n",
    "    liste=[]\n",
    "    for i in veriable:\n",
    "        if i+1 in veriable:\n",
    "            count += 1\n",
    "        else:\n",
    "            liste.append(count+1)\n",
    "            count = 0\n",
    "    return max(liste)\n",
    "longest_consecutive_element([100,99,2,98,0,4,3,5,6,7,8,9,96,97,95])"
   ]
  }
 ],
 "metadata": {
  "kernelspec": {
   "display_name": "Python 3",
   "language": "python",
   "name": "python3"
  },
  "language_info": {
   "codemirror_mode": {
    "name": "ipython",
    "version": 3
   },
   "file_extension": ".py",
   "mimetype": "text/x-python",
   "name": "python",
   "nbconvert_exporter": "python",
   "pygments_lexer": "ipython3",
   "version": "3.8.8"
  }
 },
 "nbformat": 4,
 "nbformat_minor": 5
}
