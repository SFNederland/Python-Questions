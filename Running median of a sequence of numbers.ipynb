{
 "cells": [
  {
   "cell_type": "markdown",
   "id": "9398ba91-b5ca-441f-b066-725339206132",
   "metadata": {},
   "source": [
    "## Running median of a sequence of numbers\n",
    "\n",
    "\n",
    "This problem was asked **by Microsoft.** Compute the running median of a sequence of numbers. That is, given a stream of numbers, print out the median of the list so far on each new element. Recall that the median of an even-numbered list is the average of the two middle numbers. \n",
    "For example:\n",
    "- given the sequence [2, 1, 5, 7, 2, 0, 5]  your algorithm should print out  : 2 1.5 2 3.5 2 2 2"
   ]
  },
  {
   "cell_type": "code",
   "execution_count": 2,
   "id": "a9f6d1e0-e482-4e7e-8798-90357f05f4d8",
   "metadata": {},
   "outputs": [
    {
     "data": {
      "text/plain": [
       "[2, 5.5, 6, 7.5, 6, 7.5]"
      ]
     },
     "execution_count": 2,
     "metadata": {},
     "output_type": "execute_result"
    }
   ],
   "source": [
    "def median(numbers):\n",
    "    array= [numbers[:i] for i in range(1,len(numbers)+1)]\n",
    "    result= [sorted(i)[len(i)//2] if len(i)%2==1 else (sorted(i)[int(len(i)/2)]+sorted(i)[int(len(i)/2)-1])/2 for i in array]\n",
    "    result[1::2] = [int(i) if int(i) == i else i for i in result[1::2]]\n",
    "    return result\n",
    "median([2, 9, 6, 11, 2,10])"
   ]
  },
  {
   "cell_type": "code",
   "execution_count": null,
   "id": "253b34c1-5c1a-4cc4-84c9-6b566da9e49c",
   "metadata": {},
   "outputs": [],
   "source": []
  }
 ],
 "metadata": {
  "kernelspec": {
   "display_name": "Python 3",
   "language": "python",
   "name": "python3"
  },
  "language_info": {
   "codemirror_mode": {
    "name": "ipython",
    "version": 3
   },
   "file_extension": ".py",
   "mimetype": "text/x-python",
   "name": "python",
   "nbconvert_exporter": "python",
   "pygments_lexer": "ipython3",
   "version": "3.8.8"
  }
 },
 "nbformat": 4,
 "nbformat_minor": 5
}
