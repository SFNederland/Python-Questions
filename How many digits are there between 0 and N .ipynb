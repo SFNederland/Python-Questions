{
 "cells": [
  {
   "cell_type": "markdown",
   "id": "86358a0c",
   "metadata": {},
   "source": [
    "### How many digits are there between 0 and n?\n",
    "\n",
    "Imagine you took all the numbers between 0 and n and concatenated them together into a long string. How many digits are there between 0 and n?\n",
    "\n",
    "Write a function that can calculate this.\n",
    "There are 0 digits between 0 and 1, there are 9 digits between 0 and 10 and there are 189 digits between 0 and 100.\n",
    "Examples:\n",
    "\n",
    "digits(1) ➞ 0\n",
    "\n",
    "digits(10) ➞ 9\n",
    "\n",
    "digits(100) ➞ 189\n",
    "\n",
    "digits(2020) ➞ 6969\n",
    "\n",
    "**Note:** The numbers are going to be rather big so creating that string won't be practical."
   ]
  },
  {
   "cell_type": "code",
   "execution_count": 1,
   "id": "d15eb4c8",
   "metadata": {
    "scrolled": true
   },
   "outputs": [
    {
     "name": "stdout",
     "output_type": "stream",
     "text": [
      "sayı giriniz : 2020\n",
      "6969\n"
     ]
    }
   ],
   "source": [
    "n = int(input(\"sayı giriniz : \"))\n",
    "liste = [i for i in range(1,n)]\n",
    "print(len([i for i in str(liste).strip(\"[]\") if i !=\"\" and i != \",\" and i!= \" \"]))"
   ]
  }
 ],
 "metadata": {
  "kernelspec": {
   "display_name": "Python 3",
   "language": "python",
   "name": "python3"
  },
  "language_info": {
   "codemirror_mode": {
    "name": "ipython",
    "version": 3
   },
   "file_extension": ".py",
   "mimetype": "text/x-python",
   "name": "python",
   "nbconvert_exporter": "python",
   "pygments_lexer": "ipython3",
   "version": "3.8.8"
  }
 },
 "nbformat": 4,
 "nbformat_minor": 5
}
